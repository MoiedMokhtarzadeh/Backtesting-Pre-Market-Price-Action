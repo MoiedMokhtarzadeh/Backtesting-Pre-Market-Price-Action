{
 "cells": [
  {
   "cell_type": "code",
   "execution_count": null,
   "metadata": {},
   "outputs": [],
   "source": []
  },
  {
   "cell_type": "code",
   "execution_count": 6,
   "metadata": {},
   "outputs": [],
   "source": [
    "import yfinance as yf\n",
    "import definition\n",
    "from definition import give_df\n",
    "import pandas as pd\n",
    "import numpy as np\n"
   ]
  },
  {
   "cell_type": "code",
   "execution_count": 7,
   "metadata": {},
   "outputs": [],
   "source": [
    "def get_er_dates(symbol):\n",
    "        dfq = give_df(symbol)\n",
    "        dfq[\"Binary_E\"] = np.where(dfq['Event'] == \"Earnings\", 1, 0)\n",
    "        #dfq[\"Binary_-1\"] = np.where(dfq[\"Binary_E\"].shift(-1) == 1, 1, 0)\n",
    "        dfq[\"Pre-Market Change\"] = dfq[\"Open\"] - dfq[\"Close\"].shift(+1)\n",
    "        dfq[\"Intraday Change\"] = dfq[\"Close\"] - dfq[\"Open\"]\n",
    "        dfq[\"Pre-Market D+\"] = np.where(dfq['Pre-Market Change']>0, 1, 0)\n",
    "        dfq[\"Intraday D+\"] = np.where(dfq['Intraday Change']>0, 1, 0)\n",
    "        dfq[\"Pre-Market D-\"] = np.where(dfq['Pre-Market Change']<0, 1, 0)\n",
    "        dfq[\"Intraday D-\"] = np.where(dfq['Intraday Change']<0, 1, 0)\n",
    "        dfq[\"PreM and Intra +\"] = np.where(dfq['Pre-Market D+'] +\n",
    "                                           dfq[\"Intraday D+\"] > 1, 1, 0)\n",
    "        dfq[\"PreM+ and Intra -\"] = np.where(dfq['Pre-Market D+'] +\n",
    "                                           dfq[\"Intraday D-\"] > 1, 1, 0)\n",
    "        dfw = dfq.dropna()\n",
    "        return dfw"
   ]
  },
  {
   "cell_type": "code",
   "execution_count": 8,
   "metadata": {},
   "outputs": [],
   "source": [
    "stocks = [\"TSLA\", \"AAPL\"]"
   ]
  },
  {
   "cell_type": "code",
   "execution_count": null,
   "metadata": {},
   "outputs": [],
   "source": []
  },
  {
   "cell_type": "code",
   "execution_count": 9,
   "metadata": {},
   "outputs": [
    {
     "name": "stdout",
     "output_type": "stream",
     "text": [
      "Getting historical results for TSLA\n",
      "Getting historical results for AAPL\n",
      "Parsing results dataframe...\n",
      "Saving...\n",
      "Done\n"
     ]
    }
   ],
   "source": [
    "stockz = []\n",
    "re1 = []\n",
    "re2 = []\n",
    "re3 = []\n",
    "\n",
    "for i in stocks:\n",
    "    print(\"Getting historical results for {}\".format(i))\n",
    "    dfw = pd.DataFrame(get_er_dates(i))\n",
    "    name = i\n",
    "    length_ = sum(dfw[\"Binary_E\"])\n",
    "    if length_ == 0:\n",
    "        print(\"Skipping - No Data\")\n",
    "        pass\n",
    "    else:\n",
    "        result1 = round(((sum(dfw[\"PreM and Intra +\"])/length_)*1),3)\n",
    "        zero_denom_test = sum(dfw[\"Pre-Market D+\"])\n",
    "        if zero_denom_test == 0:\n",
    "            result2 = 0\n",
    "            continue\n",
    "        else:\n",
    "            result2 = round(((sum(dfw[\"PreM and Intra +\"])/sum(dfw[\"Pre-Market D+\"]))*1),3)\n",
    "            result3 = round(((sum(dfw[\"PreM+ and Intra -\"])/sum(dfw[\"Pre-Market D+\"]))*1),3)\n",
    "        stockz.append(name)\n",
    "        re1.append(result1)\n",
    "        re2.append(result2)\n",
    "        re3.append(result3)\n",
    "\n",
    "stock_parser = {\n",
    "    \"Symbol\" : []    \n",
    "}\n",
    "\n",
    "\n",
    "print(\"Parsing results dataframe...\")\n",
    "results_df = pd.DataFrame(stock_parser)\n",
    "results_df[\"Symbol\"] = stockz\n",
    "results_df[\"- increases in both premarket and intraday x% of the time.\"] = re1\n",
    "results_df[\"- if increasing in premarket has a x% chance of increasing in intraday.\"] = re2\n",
    "results_df[\"- if increasing in premarket has a x% change of falling in intraday.\"] = re3\n",
    "label = \"Premarket trading as % of daily action\"\n",
    "print(\"Saving...\")\n",
    "results_df.to_csv(\"Main Output.csv\")\n",
    "print(\"Done\")"
   ]
  },
  {
   "cell_type": "code",
   "execution_count": null,
   "metadata": {},
   "outputs": [],
   "source": []
  },
  {
   "cell_type": "code",
   "execution_count": null,
   "metadata": {},
   "outputs": [],
   "source": []
  },
  {
   "cell_type": "code",
   "execution_count": null,
   "metadata": {},
   "outputs": [],
   "source": []
  }
 ],
 "metadata": {
  "kernelspec": {
   "display_name": "Python 3",
   "language": "python",
   "name": "python3"
  },
  "language_info": {
   "codemirror_mode": {
    "name": "ipython",
    "version": 3
   },
   "file_extension": ".py",
   "mimetype": "text/x-python",
   "name": "python",
   "nbconvert_exporter": "python",
   "pygments_lexer": "ipython3",
   "version": "3.7.3"
  }
 },
 "nbformat": 4,
 "nbformat_minor": 2
}
